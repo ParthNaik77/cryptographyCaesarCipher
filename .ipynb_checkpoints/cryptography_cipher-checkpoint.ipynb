{
 "cells": [
  {
   "cell_type": "code",
   "execution_count": 2,
   "id": "7865dcdf",
   "metadata": {},
   "outputs": [],
   "source": [
    "import string"
   ]
  },
  {
   "cell_type": "code",
   "execution_count": 5,
   "id": "9235c924",
   "metadata": {},
   "outputs": [
    {
     "name": "stdout",
     "output_type": "stream",
     "text": [
      "Encrypted message: mjqqt nyx ufwym sfnp mjwj\n",
      "Decrypted message: hello its parth naik here\n"
     ]
    }
   ],
   "source": [
    "def caesar_encrypt(message, key):\n",
    "    \n",
    "    shift = key % 26\n",
    "    cipher = str.maketrans(string.ascii_lowercase, string.ascii_lowercase[shift:] + string.ascii_lowercase[:shift])\n",
    "    \n",
    "    encrypted_message = message.lower().translate(cipher)\n",
    "    \n",
    "    return encrypted_message\n",
    "\n",
    "\n",
    "def caesar_decrypt(encrypted_message, key):\n",
    "    shift = 26 - (key % 26)\n",
    "    cipher = str.maketrans(string.ascii_lowercase, string.ascii_lowercase[shift:] + string.ascii_lowercase[:shift])\n",
    "    \n",
    "    message = encrypted_message.translate(cipher)\n",
    "    return message\n",
    "\n",
    "\n",
    "message = \"Hello its Parth Naik here\"\n",
    "key = 5\n",
    "\n",
    "encrypted_message = caesar_encrypt(message, key)\n",
    "print(f\"Encrypted message: {encrypted_message}\")\n",
    "\n",
    "decrypted_message = caesar_decrypt(encrypted_message, key)\n",
    "print(f\"Decrypted message: {decrypted_message}\")"
   ]
  },
  {
   "cell_type": "code",
   "execution_count": null,
   "id": "96fa7cc1",
   "metadata": {},
   "outputs": [],
   "source": []
  }
 ],
 "metadata": {
  "kernelspec": {
   "display_name": "Python 3 (ipykernel)",
   "language": "python",
   "name": "python3"
  },
  "language_info": {
   "codemirror_mode": {
    "name": "ipython",
    "version": 3
   },
   "file_extension": ".py",
   "mimetype": "text/x-python",
   "name": "python",
   "nbconvert_exporter": "python",
   "pygments_lexer": "ipython3",
   "version": "3.10.4"
  }
 },
 "nbformat": 4,
 "nbformat_minor": 5
}
