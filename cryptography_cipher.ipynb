{
 "cells": [
  {
   "cell_type": "code",
   "execution_count": 11,
   "id": "7865dcdf",
   "metadata": {},
   "outputs": [],
   "source": [
    "# Importing required libraries\n",
    "import string\n",
    "import random\n",
    "import math"
   ]
  },
  {
   "cell_type": "markdown",
   "id": "7a6bcb80",
   "metadata": {},
   "source": [
    "# Caesar Cipher"
   ]
  },
  {
   "cell_type": "code",
   "execution_count": 5,
   "id": "9235c924",
   "metadata": {},
   "outputs": [
    {
     "name": "stdout",
     "output_type": "stream",
     "text": [
      "Encrypted message: mjqqt nyx ufwym sfnp mjwj\n",
      "Decrypted message: hello its parth naik here\n"
     ]
    }
   ],
   "source": [
    "def caesar_encrypt(message, key):\n",
    "    \n",
    "    shift = key % 26\n",
    "    cipher = str.maketrans(string.ascii_lowercase, string.ascii_lowercase[shift:] + string.ascii_lowercase[:shift])\n",
    "    \n",
    "    encrypted_message = message.lower().translate(cipher)\n",
    "    \n",
    "    return encrypted_message\n",
    "\n",
    "\n",
    "def caesar_decrypt(encrypted_message, key):\n",
    "    shift = 26 - (key % 26)\n",
    "    cipher = str.maketrans(string.ascii_lowercase, string.ascii_lowercase[shift:] + string.ascii_lowercase[:shift])\n",
    "    \n",
    "    message = encrypted_message.translate(cipher)\n",
    "    return message\n",
    "\n",
    "\n",
    "message = \"Hello its Parth Naik here\"\n",
    "key = 5\n",
    "\n",
    "encrypted_message = caesar_encrypt(message, key)\n",
    "print(f\"Encrypted message: {encrypted_message}\")\n",
    "\n",
    "decrypted_message = caesar_decrypt(encrypted_message, key)\n",
    "print(f\"Decrypted message: {decrypted_message}\")"
   ]
  },
  {
   "cell_type": "markdown",
   "id": "8e895eea",
   "metadata": {},
   "source": [
    "# Rivest–Shamir–Adleman (RSA)"
   ]
  },
  {
   "cell_type": "code",
   "execution_count": 12,
   "id": "96fa7cc1",
   "metadata": {},
   "outputs": [],
   "source": [
    "# Function to check whether a number is prime or not\n",
    "def check_is_prime(number):\n",
    "    if number < 2:\n",
    "        return False\n",
    "    \n",
    "    for i in range(2, number // 2 + 1):\n",
    "        if number % i == 0:\n",
    "            return False\n",
    "        \n",
    "    return True\n",
    "\n",
    "# Function to generate a prime number\n",
    "def generate_prime_number(min_limit, max_limit):\n",
    "    number = random.randint(min_limit, max_limit)\n",
    "    \n",
    "    # Check whether randomly generated number is prime or not by calling check_is_prime() function\n",
    "    while not check_is_prime(number):\n",
    "        number = random.randint(min_limit, max_limit)\n",
    "    \n",
    "    return number\n",
    "\n",
    "# Function to perform mod inverse for generating the Private Key using Public Key and euler's totient function(phi_n) i.e. Φ(n)\n",
    "def mod_inverse(public_key, phi_n):\n",
    "    for private_key in range(3, phi_n):\n",
    "        \n",
    "        # private_key * public_key = (1)mod Φ(n)\n",
    "        if (private_key * public_key) % phi_n == 1:\n",
    "            return private_key\n",
    "        \n",
    "    raise ValueError(\"mod inverse does not exist\")"
   ]
  },
  {
   "cell_type": "code",
   "execution_count": 14,
   "id": "d11d2852",
   "metadata": {},
   "outputs": [
    {
     "name": "stdout",
     "output_type": "stream",
     "text": [
      "p: 1483\n",
      "q: 2671\n",
      "n: 3961093\n",
      "phi(n): 3956940\n",
      "Public Key: 3445127\n",
      "Private Key: 1871783\n",
      "Original Message: Hello World\n",
      "Encrypted message: [27849, 2529615, 2898985, 2898985, 162960, 3824081, 1220253, 162960, 971440, 2898985, 2495533]\n",
      "Decrypted Message: Hello World\n"
     ]
    }
   ],
   "source": [
    "p, q = generate_prime_number(1000, 5000), generate_prime_number(1000, 5000)\n",
    "\n",
    "while p == q:\n",
    "    q = rate_prime_number(1000, 5000)\n",
    "    \n",
    "n = p * q\n",
    "\n",
    "phi_n = (p - 1) * (q - 1)\n",
    "\n",
    "# Generate Public Key\n",
    "public_key = random.randint(3, phi_n - 1)\n",
    "\n",
    "while math.gcd(public_key, phi_n) != 1:\n",
    "    public_key = random.randint(3, phi_n - 1)\n",
    "    \n",
    "\n",
    "# Generate Private Key\n",
    "private_key = mod_inverse(public_key, phi_n)\n",
    "\n",
    "\n",
    "print(f\"p: {p}\")\n",
    "print(f\"q: {q}\")\n",
    "print(f\"n: {n}\")\n",
    "print(f\"phi(n): {phi_n}\")\n",
    "print(f\"Public Key: {public_key}\")\n",
    "print(f\"Private Key: {private_key}\")\n",
    "\n",
    "\n",
    "message = \"Hello World\"\n",
    "\n",
    "print(f\"Original Message: {message}\")\n",
    "\n",
    "message_encoded_to_ASCII = [ord(char) for char in message]\n",
    "\n",
    "encrypted_message = [pow(char, public_key, n) for char in message_encoded_to_ASCII]\n",
    "\n",
    "print(f\"Encrypted message: {encrypted_message}\")\n",
    "\n",
    "decrypt = [pow(char, private_key, n) for char in encrypted_message]\n",
    "decrypted_message = \"\".join(chr(char) for char in decrypt)\n",
    "\n",
    "print(f\"Decrypted Message: {decrypted_message}\")"
   ]
  },
  {
   "cell_type": "markdown",
   "id": "b3155b41",
   "metadata": {},
   "source": [
    "# Diffie–Hellman Key exchange (DHK)"
   ]
  },
  {
   "cell_type": "code",
   "execution_count": null,
   "id": "17217b68",
   "metadata": {},
   "outputs": [],
   "source": []
  }
 ],
 "metadata": {
  "kernelspec": {
   "display_name": "Python 3 (ipykernel)",
   "language": "python",
   "name": "python3"
  },
  "language_info": {
   "codemirror_mode": {
    "name": "ipython",
    "version": 3
   },
   "file_extension": ".py",
   "mimetype": "text/x-python",
   "name": "python",
   "nbconvert_exporter": "python",
   "pygments_lexer": "ipython3",
   "version": "3.10.4"
  }
 },
 "nbformat": 4,
 "nbformat_minor": 5
}
