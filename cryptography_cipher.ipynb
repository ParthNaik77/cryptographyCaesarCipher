{
 "cells": [
  {
   "cell_type": "code",
   "execution_count": 1,
   "id": "7865dcdf",
   "metadata": {},
   "outputs": [],
   "source": [
    "# Importing required libraries\n",
    "import string\n",
    "import random\n",
    "import math"
   ]
  },
  {
   "cell_type": "markdown",
   "id": "7a6bcb80",
   "metadata": {},
   "source": [
    "# Caesar Cipher"
   ]
  },
  {
   "cell_type": "code",
   "execution_count": 2,
   "id": "9235c924",
   "metadata": {},
   "outputs": [
    {
     "name": "stdout",
     "output_type": "stream",
     "text": [
      "Encrypted message: mjqqt nyx ufwym sfnp mjwj\n",
      "Decrypted message: hello its parth naik here\n"
     ]
    }
   ],
   "source": [
    "def caesar_encrypt(message, key):\n",
    "    \n",
    "    shift = key % 26\n",
    "    cipher = str.maketrans(string.ascii_lowercase, string.ascii_lowercase[shift:] + string.ascii_lowercase[:shift])\n",
    "    \n",
    "    encrypted_message = message.lower().translate(cipher)\n",
    "    \n",
    "    return encrypted_message\n",
    "\n",
    "\n",
    "def caesar_decrypt(encrypted_message, key):\n",
    "    shift = 26 - (key % 26)\n",
    "    cipher = str.maketrans(string.ascii_lowercase, string.ascii_lowercase[shift:] + string.ascii_lowercase[:shift])\n",
    "    \n",
    "    message = encrypted_message.translate(cipher)\n",
    "    return message\n",
    "\n",
    "\n",
    "message = \"Hello its Parth Naik here\"\n",
    "key = 5\n",
    "\n",
    "encrypted_message = caesar_encrypt(message, key)\n",
    "print(f\"Encrypted message: {encrypted_message}\")\n",
    "\n",
    "decrypted_message = caesar_decrypt(encrypted_message, key)\n",
    "print(f\"Decrypted message: {decrypted_message}\")"
   ]
  },
  {
   "cell_type": "markdown",
   "id": "8e895eea",
   "metadata": {},
   "source": [
    "# Rivest–Shamir–Adleman (RSA)"
   ]
  },
  {
   "cell_type": "code",
   "execution_count": 3,
   "id": "96fa7cc1",
   "metadata": {},
   "outputs": [],
   "source": [
    "# Function to check whether a number is prime or not\n",
    "def check_is_prime(number):\n",
    "    if number < 2:\n",
    "        return False\n",
    "    \n",
    "    for i in range(2, number // 2 + 1):\n",
    "        if number % i == 0:\n",
    "            return False\n",
    "        \n",
    "    return True\n",
    "\n",
    "# Function to generate a prime number\n",
    "def generate_prime_number(min_limit, max_limit):\n",
    "    number = random.randint(min_limit, max_limit)\n",
    "    \n",
    "    # Check whether randomly generated number is prime or not by calling check_is_prime() function\n",
    "    while not check_is_prime(number):\n",
    "        number = random.randint(min_limit, max_limit)\n",
    "    \n",
    "    return number\n",
    "\n",
    "# Function to perform mod inverse for generating the Private Key using Public Key and euler's totient function(phi_n) i.e. Φ(n)\n",
    "def mod_inverse(public_key, phi_n):\n",
    "    for private_key in range(3, phi_n):\n",
    "        \n",
    "        # private_key * public_key = (1)mod Φ(n)\n",
    "        if (private_key * public_key) % phi_n == 1:\n",
    "            return private_key\n",
    "        \n",
    "    raise ValueError(\"mod inverse does not exist\")"
   ]
  },
  {
   "cell_type": "code",
   "execution_count": 4,
   "id": "d11d2852",
   "metadata": {},
   "outputs": [
    {
     "name": "stdout",
     "output_type": "stream",
     "text": [
      "p: 3257\n",
      "q: 3697\n",
      "n: 12041129\n",
      "phi(n): 12034176\n",
      "Public Key: 3349039\n",
      "Private Key: 503119\n",
      "Original Message: Hello World\n",
      "Encrypted message: [7139005, 2754999, 5659999, 5659999, 5926134, 7324535, 8626760, 5926134, 10173683, 5659999, 5059003]\n",
      "Decrypted Message: Hello World\n"
     ]
    }
   ],
   "source": [
    "p, q = generate_prime_number(1000, 5000), generate_prime_number(1000, 5000)\n",
    "\n",
    "while p == q:\n",
    "    q = rate_prime_number(1000, 5000)\n",
    "    \n",
    "n = p * q\n",
    "\n",
    "phi_n = (p - 1) * (q - 1)\n",
    "\n",
    "# Generate Public Key\n",
    "public_key = random.randint(3, phi_n - 1)\n",
    "\n",
    "while math.gcd(public_key, phi_n) != 1:\n",
    "    public_key = random.randint(3, phi_n - 1)\n",
    "    \n",
    "\n",
    "# Generate Private Key\n",
    "private_key = mod_inverse(public_key, phi_n)\n",
    "\n",
    "\n",
    "print(f\"p: {p}\")\n",
    "print(f\"q: {q}\")\n",
    "print(f\"n: {n}\")\n",
    "print(f\"phi(n): {phi_n}\")\n",
    "print(f\"Public Key: {public_key}\")\n",
    "print(f\"Private Key: {private_key}\")\n",
    "\n",
    "\n",
    "message = \"Hello World\"\n",
    "\n",
    "print(f\"Original Message: {message}\")\n",
    "\n",
    "message_encoded_to_ASCII = [ord(char) for char in message]\n",
    "\n",
    "encrypted_message = [pow(char, public_key, n) for char in message_encoded_to_ASCII]\n",
    "\n",
    "print(f\"Encrypted message: {encrypted_message}\")\n",
    "\n",
    "decrypt = [pow(char, private_key, n) for char in encrypted_message]\n",
    "decrypted_message = \"\".join(chr(char) for char in decrypt)\n",
    "\n",
    "print(f\"Decrypted Message: {decrypted_message}\")"
   ]
  },
  {
   "cell_type": "markdown",
   "id": "b3155b41",
   "metadata": {},
   "source": [
    "# Diffie–Hellman Key exchange (DHK)"
   ]
  },
  {
   "cell_type": "code",
   "execution_count": 5,
   "id": "17217b68",
   "metadata": {},
   "outputs": [
    {
     "name": "stdout",
     "output_type": "stream",
     "text": [
      "Prime number 1: 7\n",
      "Prime number 2: 5\n",
      "Private key 1: 3\n",
      "Private key 2: 4\n",
      "1 1\n"
     ]
    }
   ],
   "source": [
    "# Prime numbers\n",
    "q = int(input(\"Prime number 1: \"))\n",
    "\n",
    "p = int(input(\"Prime number 2: \"))\n",
    "\n",
    "\n",
    "# Private keys for both parties\n",
    "private_key_1 = int(input(\"Private key 1: \"))\n",
    "\n",
    "private_key_2 = int(input(\"Private key 2: \"))\n",
    "\n",
    "\n",
    "# Compute Public keys\n",
    "public_key_1 = p**private_key_1 % q\n",
    "\n",
    "public_key_2 = p**private_key_2 % q\n",
    "\n",
    "\n",
    "# Compute same keys\n",
    "key_1 = public_key_2**private_key_1 % q\n",
    "\n",
    "key_2 = public_key_2**private_key_1 % q\n",
    "\n",
    "print(key_1, key_2)\n",
    "\n",
    "\n",
    "\n",
    "\n",
    "\n",
    "\n",
    "\n",
    "\n",
    "\n"
   ]
  },
  {
   "cell_type": "code",
   "execution_count": null,
   "id": "b2a2c668",
   "metadata": {},
   "outputs": [],
   "source": []
  }
 ],
 "metadata": {
  "kernelspec": {
   "display_name": "Python 3 (ipykernel)",
   "language": "python",
   "name": "python3"
  },
  "language_info": {
   "codemirror_mode": {
    "name": "ipython",
    "version": 3
   },
   "file_extension": ".py",
   "mimetype": "text/x-python",
   "name": "python",
   "nbconvert_exporter": "python",
   "pygments_lexer": "ipython3",
   "version": "3.10.4"
  }
 },
 "nbformat": 4,
 "nbformat_minor": 5
}
